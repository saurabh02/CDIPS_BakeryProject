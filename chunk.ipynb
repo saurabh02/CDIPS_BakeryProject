{
 "cells": [
  {
   "cell_type": "markdown",
   "metadata": {},
   "source": [
    "#### Preparing a small set of samples for expoloratory analysis"
   ]
  },
  {
   "cell_type": "code",
   "execution_count": 1,
   "metadata": {
    "collapsed": true
   },
   "outputs": [],
   "source": [
    "import pandas as pd"
   ]
  },
  {
   "cell_type": "code",
   "execution_count": 2,
   "metadata": {
    "collapsed": true
   },
   "outputs": [],
   "source": [
    "train_merge = pd.read_csv('data/train_merge_weight.csv', index_col = 0)"
   ]
  },
  {
   "cell_type": "code",
   "execution_count": 11,
   "metadata": {
    "collapsed": true
   },
   "outputs": [],
   "source": [
    "train_merge[train_merge.Producto_ID < 73].to_csv('data/chunk.csv')"
   ]
  },
  {
   "cell_type": "code",
   "execution_count": 13,
   "metadata": {
    "collapsed": false
   },
   "outputs": [
    {
     "name": "stdout",
     "output_type": "stream",
     "text": [
      "In chunk.csv, there are: \n",
      "         7              Semana\n",
      "       167          Agencia_ID\n",
      "         7            Canal_ID\n",
      "       518            Ruta_SAK\n",
      "     67477          Cliente_ID\n",
      "         3         Producto_ID\n",
      "       181       Venta_uni_hoy\n",
      "       319           Venta_hoy\n",
      "        38     Dev_uni_proxima\n",
      "        46         Dev_proxima\n",
      "       181   Demanda_uni_equil\n",
      "     27616       NombreCliente\n",
      "       144                Town\n",
      "        27               State\n",
      "         3          short_name\n",
      "         3               brand\n",
      "         3              weight\n",
      "         2              pieces\n"
     ]
    }
   ],
   "source": [
    "chunk = pd.read_csv('data/chunk.csv', index_col=0)\n",
    "print ('In chunk.csv, there are: ')\n",
    "for col in chunk.columns:\n",
    "     print ('{:>10}{:>20}'.format(len(chunk[col].value_counts()), col))"
   ]
  },
  {
   "cell_type": "code",
   "execution_count": 14,
   "metadata": {
    "collapsed": false
   },
   "outputs": [
    {
     "data": {
      "text/plain": [
       "(146379, 18)"
      ]
     },
     "execution_count": 14,
     "metadata": {},
     "output_type": "execute_result"
    }
   ],
   "source": [
    "chunk.shape"
   ]
  },
  {
   "cell_type": "code",
   "execution_count": null,
   "metadata": {
    "collapsed": true
   },
   "outputs": [],
   "source": []
  }
 ],
 "metadata": {
  "kernelspec": {
   "display_name": "Python [Root]",
   "language": "python",
   "name": "Python [Root]"
  },
  "language_info": {
   "codemirror_mode": {
    "name": "ipython",
    "version": 3
   },
   "file_extension": ".py",
   "mimetype": "text/x-python",
   "name": "python",
   "nbconvert_exporter": "python",
   "pygments_lexer": "ipython3",
   "version": "3.5.1"
  }
 },
 "nbformat": 4,
 "nbformat_minor": 0
}
