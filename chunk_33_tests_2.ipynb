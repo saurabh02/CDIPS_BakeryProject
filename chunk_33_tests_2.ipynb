{
 "cells": [
  {
   "cell_type": "code",
   "execution_count": 2,
   "metadata": {
    "collapsed": true
   },
   "outputs": [],
   "source": [
    "import pandas as pd"
   ]
  },
  {
   "cell_type": "code",
   "execution_count": 3,
   "metadata": {
    "collapsed": false
   },
   "outputs": [
    {
     "name": "stdout",
     "output_type": "stream",
     "text": [
      "984551\n"
     ]
    },
    {
     "data": {
      "text/html": [
       "<div>\n",
       "<table border=\"1\" class=\"dataframe\">\n",
       "  <thead>\n",
       "    <tr style=\"text-align: right;\">\n",
       "      <th></th>\n",
       "      <th>Semana</th>\n",
       "      <th>Agencia_ID</th>\n",
       "      <th>Canal_ID</th>\n",
       "      <th>Ruta_SAK</th>\n",
       "      <th>Cliente_ID</th>\n",
       "      <th>Producto_ID</th>\n",
       "      <th>Venta_uni_hoy</th>\n",
       "      <th>Venta_hoy</th>\n",
       "      <th>Dev_uni_proxima</th>\n",
       "      <th>Dev_proxima</th>\n",
       "      <th>Demanda_uni_equil</th>\n",
       "      <th>NombreCliente</th>\n",
       "      <th>Town</th>\n",
       "      <th>State</th>\n",
       "      <th>short_name</th>\n",
       "      <th>brand</th>\n",
       "      <th>weight</th>\n",
       "      <th>pieces</th>\n",
       "    </tr>\n",
       "  </thead>\n",
       "  <tbody>\n",
       "    <tr>\n",
       "      <th>0</th>\n",
       "      <td>4</td>\n",
       "      <td>1110</td>\n",
       "      <td>7</td>\n",
       "      <td>3301</td>\n",
       "      <td>15766</td>\n",
       "      <td>325</td>\n",
       "      <td>1</td>\n",
       "      <td>8.15</td>\n",
       "      <td>0</td>\n",
       "      <td>0.0</td>\n",
       "      <td>1</td>\n",
       "      <td>PUESTO DE PERIODICOS LAZARO</td>\n",
       "      <td>2008 AG. LAGO FILT</td>\n",
       "      <td>MÉXICO, D.F.</td>\n",
       "      <td>Tuinky Vainilla</td>\n",
       "      <td>WON</td>\n",
       "      <td>114</td>\n",
       "      <td>3.0</td>\n",
       "    </tr>\n",
       "    <tr>\n",
       "      <th>1</th>\n",
       "      <td>4</td>\n",
       "      <td>1110</td>\n",
       "      <td>7</td>\n",
       "      <td>3301</td>\n",
       "      <td>198780</td>\n",
       "      <td>325</td>\n",
       "      <td>3</td>\n",
       "      <td>24.45</td>\n",
       "      <td>0</td>\n",
       "      <td>0.0</td>\n",
       "      <td>3</td>\n",
       "      <td>DULCERIA HOSPITAL ESPAÑOL</td>\n",
       "      <td>2008 AG. LAGO FILT</td>\n",
       "      <td>MÉXICO, D.F.</td>\n",
       "      <td>Tuinky Vainilla</td>\n",
       "      <td>WON</td>\n",
       "      <td>114</td>\n",
       "      <td>3.0</td>\n",
       "    </tr>\n",
       "  </tbody>\n",
       "</table>\n",
       "</div>"
      ],
      "text/plain": [
       "   Semana  Agencia_ID  Canal_ID  Ruta_SAK  Cliente_ID  Producto_ID  \\\n",
       "0       4        1110         7      3301       15766          325   \n",
       "1       4        1110         7      3301      198780          325   \n",
       "\n",
       "   Venta_uni_hoy  Venta_hoy  Dev_uni_proxima  Dev_proxima  Demanda_uni_equil  \\\n",
       "0              1       8.15                0          0.0                  1   \n",
       "1              3      24.45                0          0.0                  3   \n",
       "\n",
       "                 NombreCliente                Town         State  \\\n",
       "0  PUESTO DE PERIODICOS LAZARO  2008 AG. LAGO FILT  MÉXICO, D.F.   \n",
       "1    DULCERIA HOSPITAL ESPAÑOL  2008 AG. LAGO FILT  MÉXICO, D.F.   \n",
       "\n",
       "         short_name brand  weight  pieces  \n",
       "0  Tuinky Vainilla    WON     114     3.0  \n",
       "1  Tuinky Vainilla    WON     114     3.0  "
      ]
     },
     "execution_count": 3,
     "metadata": {},
     "output_type": "execute_result"
    }
   ],
   "source": [
    "df = pd.read_csv(\"data/chunk_33_prod.csv\",index_col=None)\n",
    "print len(df)\n",
    "df.head(2)"
   ]
  },
  {
   "cell_type": "code",
   "execution_count": 4,
   "metadata": {
    "collapsed": false
   },
   "outputs": [],
   "source": [
    "identifier_list = ['Canal_ID','Agencia_ID','Ruta_SAK','Cliente_ID','Producto_ID']"
   ]
  },
  {
   "cell_type": "code",
   "execution_count": 7,
   "metadata": {
    "collapsed": false
   },
   "outputs": [
    {
     "name": "stdout",
     "output_type": "stream",
     "text": [
      "0.0\n",
      "1.0156914167\n",
      "2.03138283339\n",
      "3.04707425009\n",
      "4.06276566679\n",
      "5.07845708348\n",
      "6.09414850018\n",
      "7.10983991688\n",
      "8.12553133357\n",
      "9.14122275027\n",
      "10.156914167\n",
      "11.1726055837\n",
      "12.1882970004\n",
      "13.2039884171\n",
      "14.2196798338\n",
      "15.2353712504\n",
      "16.2510626671\n",
      "17.2667540838\n",
      "18.2824455005\n",
      "19.2981369172\n",
      "20.3138283339\n",
      "21.3295197506\n",
      "22.3452111673\n",
      "23.360902584\n",
      "24.3765940007\n",
      "25.3922854174\n",
      "26.4079768341\n",
      "27.4236682508\n",
      "28.4393596675\n",
      "29.4550510842\n",
      "30.4707425009\n",
      "31.4864339176\n",
      "32.5021253343\n",
      "33.517816751\n",
      "34.5335081677\n",
      "35.5491995844\n",
      "36.5648910011\n",
      "37.5805824178\n",
      "38.5962738345\n",
      "39.6119652512\n",
      "40.6276566679\n",
      "41.6433480846\n",
      "42.6590395013\n",
      "43.674730918\n",
      "44.6904223346\n",
      "45.7061137513\n",
      "46.721805168\n",
      "47.7374965847\n",
      "48.7531880014\n",
      "49.7688794181\n",
      "50.7845708348\n",
      "51.8002622515\n",
      "52.8159536682\n",
      "53.8316450849\n",
      "54.8473365016\n",
      "55.8630279183\n",
      "56.878719335\n",
      "57.8944107517\n",
      "58.9101021684\n",
      "59.9257935851\n",
      "60.9414850018\n",
      "61.9571764185\n",
      "62.9728678352\n",
      "63.9885592519\n",
      "65.0042506686\n",
      "66.0199420853\n",
      "67.035633502\n",
      "68.0513249187\n",
      "69.0670163354\n",
      "70.0827077521\n",
      "71.0983991688\n",
      "72.1140905855\n",
      "73.1297820022\n",
      "74.1454734188\n",
      "75.1611648355\n",
      "76.1768562522\n",
      "77.1925476689\n",
      "78.2082390856\n",
      "79.2239305023\n",
      "80.239621919\n",
      "81.2553133357\n",
      "82.2710047524\n",
      "83.2866961691\n",
      "84.3023875858\n",
      "85.3180790025\n",
      "86.3337704192\n",
      "87.3494618359\n",
      "88.3651532526\n",
      "89.3808446693\n",
      "90.396536086\n",
      "91.4122275027\n",
      "92.4279189194\n",
      "93.4436103361\n",
      "94.4593017528\n",
      "95.4749931695\n",
      "96.4906845862\n",
      "97.5063760029\n",
      "98.5220674196\n",
      "99.5377588363\n"
     ]
    }
   ],
   "source": [
    "predictor_list = {}\n",
    "l = len(df)\n",
    "for i in range(0,l):\n",
    "    if (i % 40000) == 0:\n",
    "        print (float(i)/float(l))*100.0\n",
    "    d = df.iloc[i]\n",
    "    hash_idx = str(d['Canal_ID']) + '_' + str(d['Agencia_ID'])+ '_' + str(d['Ruta_SAK'])+ '_' + str(d['Cliente_ID'])+ '_' + str(d['Producto_ID'])\n",
    "    \n",
    "    if not predictor_list.has_key(hash_idx):\n",
    "        predictor_list[hash_idx] = [[],[]]\n",
    "\n",
    "    predictor_list[hash_idx][0].append(d['Semana'])\n",
    "    predictor_list[hash_idx][1].append(d['Demanda_uni_equil'])"
   ]
  },
  {
   "cell_type": "code",
   "execution_count": 51,
   "metadata": {
    "collapsed": false
   },
   "outputs": [],
   "source": [
    "import pickle\n",
    "pickle.dump(predictor_list,open('predictor_list.txt','wb'))"
   ]
  },
  {
   "cell_type": "code",
   "execution_count": 14,
   "metadata": {
    "collapsed": true
   },
   "outputs": [],
   "source": [
    "import matplotlib.pyplot as plt\n",
    "%matplotlib inline"
   ]
  },
  {
   "cell_type": "code",
   "execution_count": 79,
   "metadata": {
    "collapsed": false
   },
   "outputs": [
    {
     "name": "stdout",
     "output_type": "stream",
     "text": [
      "[3, 4, 5, 6, 7, 8, 9]\n",
      "[0, 0, 0, 7, 4, 3, 6]\n"
     ]
    },
    {
     "data": {
      "text/plain": [
       "<matplotlib.text.Text at 0x7094bf60>"
      ]
     },
     "execution_count": 79,
     "metadata": {},
     "output_type": "execute_result"
    },
    {
     "data": {
      "image/png": "[encoded data removed]",
      "text/plain": [
       "<matplotlib.figure.Figure at 0x5e2b4400>"
      ]
     },
     "metadata": {},
     "output_type": "display_data"
    }
   ],
   "source": [
    "keys = predictor_list.keys()\n",
    "k = keys[1121]\n",
    "x = predictor_list[k][0]\n",
    "y = predictor_list[k][1]\n",
    "\n",
    "off = 3\n",
    "xp = [3,4,5,6,7,8,9]\n",
    "yp = [0,0,0,0,0,0,0]\n",
    "for z in range(0,len(x)):\n",
    "    yp[x[z]-off] = y[z]\n",
    "    \n",
    "print xp\n",
    "print yp\n",
    "plt.scatter(xp,yp)\n",
    "plt.xlabel(\"Week\")\n",
    "plt.ylabel(\"Demand Units\")"
   ]
  },
  {
   "cell_type": "code",
   "execution_count": 80,
   "metadata": {
    "collapsed": false
   },
   "outputs": [
    {
     "data": {
      "text/plain": [
       "1.726481622128139"
      ]
     },
     "execution_count": 80,
     "metadata": {},
     "output_type": "execute_result"
    }
   ],
   "source": [
    "#we will use means of the form exp(mean(log(demand + 1))) - 1\n",
    "import math\n",
    "mean = 0.0\n",
    "\n",
    "for y in yp:\n",
    "    mean += math.log(y+1.0)\n",
    "mean /= float(len(yp))\n",
    "ans = math.exp(mean) - 1.0\n",
    "\n",
    "ans\n"
   ]
  },
  {
   "cell_type": "code",
   "execution_count": null,
   "metadata": {
    "collapsed": true
   },
   "outputs": [],
   "source": []
  }
 ],
 "metadata": {
  "kernelspec": {
   "display_name": "Python 2",
   "language": "python",
   "name": "python2"
  },
  "language_info": {
   "codemirror_mode": {
    "name": "ipython",
    "version": 2
   },
   "file_extension": ".py",
   "mimetype": "text/x-python",
   "name": "python",
   "nbconvert_exporter": "python",
   "pygments_lexer": "ipython2",
   "version": "2.7.12"
  }
 },
 "nbformat": 4,
 "nbformat_minor": 0
}
