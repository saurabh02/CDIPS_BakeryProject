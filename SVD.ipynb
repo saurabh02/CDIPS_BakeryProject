{
 "cells": [
  {
   "cell_type": "code",
   "execution_count": null,
   "metadata": {
    "collapsed": false
   },
   "outputs": [],
   "source": [
    "import pandas as pd\n",
    "\n",
    "df_train = pd.read_csv('data/train.csv')"
   ]
  },
  {
   "cell_type": "code",
   "execution_count": 4,
   "metadata": {
    "collapsed": false
   },
   "outputs": [
    {
     "name": "stdout",
     "output_type": "stream",
     "text": [
      "   Semana  Agencia_ID  Canal_ID  Ruta_SAK  Cliente_ID  Producto_ID  \\\n",
      "0       3        1110         7      3301       15766         1212   \n",
      "1       3        1110         7      3301       15766         1216   \n",
      "2       3        1110         7      3301       15766         1238   \n",
      "3       3        1110         7      3301       15766         1240   \n",
      "4       3        1110         7      3301       15766         1242   \n",
      "\n",
      "   Venta_uni_hoy  Venta_hoy  Dev_uni_proxima  Dev_proxima  Demanda_uni_equil  \n",
      "0              3      25.14                0            0                  3  \n",
      "1              4      33.52                0            0                  4  \n",
      "2              4      39.32                0            0                  4  \n",
      "3              4      33.52                0            0                  4  \n",
      "4              3      22.92                0            0                  3  \n"
     ]
    }
   ],
   "source": [
    "print df_train.head()"
   ]
  },
  {
   "cell_type": "code",
   "execution_count": 7,
   "metadata": {
    "collapsed": false
   },
   "outputs": [
    {
     "name": "stdout",
     "output_type": "stream",
     "text": [
      "Number of unique products = 1799\n"
     ]
    }
   ],
   "source": [
    "print 'Number of unique products = {}'.format(len(df_train['Producto_ID'].unique()))"
   ]
  },
  {
   "cell_type": "code",
   "execution_count": 9,
   "metadata": {
    "collapsed": false
   },
   "outputs": [],
   "source": [
    "df_prod = pd.read_csv('data/producto_tabla.csv')"
   ]
  },
  {
   "cell_type": "code",
   "execution_count": 10,
   "metadata": {
    "collapsed": false
   },
   "outputs": [
    {
     "name": "stdout",
     "output_type": "stream",
     "text": [
      "   Producto_ID                          NombreProducto\n",
      "0            0                       NO IDENTIFICADO 0\n",
      "1            9               Capuccino Moka 750g NES 9\n",
      "2           41  Bimbollos Ext sAjonjoli 6p 480g BIM 41\n",
      "3           53          Burritos Sincro 170g CU LON 53\n",
      "4           72     Div Tira Mini Doradita 4p 45g TR 72\n"
     ]
    }
   ],
   "source": [
    "print df_prod.head()"
   ]
  },
  {
   "cell_type": "code",
   "execution_count": 15,
   "metadata": {
    "collapsed": false,
    "scrolled": false
   },
   "outputs": [],
   "source": [
    "df_train_prod = pd.merge(df_train, df_prod)"
   ]
  },
  {
   "cell_type": "code",
   "execution_count": 16,
   "metadata": {
    "collapsed": false
   },
   "outputs": [
    {
     "name": "stdout",
     "output_type": "stream",
     "text": [
      "   Semana  Agencia_ID  Canal_ID  Ruta_SAK  Cliente_ID  Producto_ID  \\\n",
      "0       3        1110         7      3301       15766         1212   \n",
      "1       3        1110         7      3301       73838         1212   \n",
      "2       3        1110         7      3301       73844         1212   \n",
      "3       3        1110         7      3301      198780         1212   \n",
      "4       3        1110         7      3301     1159580         1212   \n",
      "\n",
      "   Venta_uni_hoy  Venta_hoy  Dev_uni_proxima  Dev_proxima  Demanda_uni_equil  \\\n",
      "0              3      25.14                0            0                  3   \n",
      "1              3      25.14                0            0                  3   \n",
      "2              2      16.76                0            0                  2   \n",
      "3              4      33.52                0            0                  4   \n",
      "4              3      25.14                0            0                  3   \n",
      "\n",
      "                  NombreProducto  \n",
      "0  Roles Canela 2p 120g BIM 1212  \n",
      "1  Roles Canela 2p 120g BIM 1212  \n",
      "2  Roles Canela 2p 120g BIM 1212  \n",
      "3  Roles Canela 2p 120g BIM 1212  \n",
      "4  Roles Canela 2p 120g BIM 1212  \n",
      "(74180464, 12)\n"
     ]
    }
   ],
   "source": [
    "print df_train_prod.head()\n",
    "print df_train_prod.shape"
   ]
  },
  {
   "cell_type": "code",
   "execution_count": 18,
   "metadata": {
    "collapsed": false
   },
   "outputs": [],
   "source": [
    "demand_matrix_df = df_train_prod.pivot_table(index='Cliente_ID', columns='NombreProducto', values='Demanda_uni_equil', fill_value=0)"
   ]
  },
  {
   "cell_type": "code",
   "execution_count": 19,
   "metadata": {
    "collapsed": false
   },
   "outputs": [
    {
     "name": "stdout",
     "output_type": "stream",
     "text": [
      "NombreProducto  100pct Whole Wheat 680g MTA ORO 43111  \\\n",
      "Cliente_ID                                              \n",
      "26                                                  0   \n",
      "60                                                  0   \n",
      "65                                                  0   \n",
      "101                                                 0   \n",
      "105                                                 0   \n",
      "\n",
      "NombreProducto  100pct Whole Wheat 680g ORO 9753  \\\n",
      "Cliente_ID                                         \n",
      "26                                             0   \n",
      "60                                             0   \n",
      "65                                             0   \n",
      "101                                            0   \n",
      "105                                            0   \n",
      "\n",
      "NombreProducto  12Granos Multigra TwinPack 1360g MTA ORO 43364  \\\n",
      "Cliente_ID                                                       \n",
      "26                                                    0.000000   \n",
      "60                                                  141.857143   \n",
      "65                                                    0.000000   \n",
      "101                                                   0.000000   \n",
      "105                                                   0.000000   \n",
      "\n",
      "NombreProducto  12Granos Multigra TwinPack 1360g TAB ORO 48227  \\\n",
      "Cliente_ID                                                       \n",
      "26                                                           0   \n",
      "60                                                           0   \n",
      "65                                                           0   \n",
      "101                                                          0   \n",
      "105                                                          0   \n",
      "\n",
      "NombreProducto  7 Granos 680g MTA ORO 43160  7 Granos 680g ORO 714  \\\n",
      "Cliente_ID                                                           \n",
      "26                                 0.000000                      0   \n",
      "60                                 0.000000                      0   \n",
      "65                                63.000000                      0   \n",
      "101                                0.000000                      0   \n",
      "105                               20.142857                      0   \n",
      "\n",
      "NombreProducto  7 Granos 680g TAB ORO 48228  ActiFresh Menta 6p 27g RIC 35631  \\\n",
      "Cliente_ID                                                                      \n",
      "26                                        0                                 0   \n",
      "60                                        0                                 0   \n",
      "65                                        0                                 0   \n",
      "101                                       0                                 0   \n",
      "105                                       0                                 0   \n",
      "\n",
      "NombreProducto  ActiFresh Yerbabuena 6p 27g RIC 35632  \\\n",
      "Cliente_ID                                              \n",
      "26                                                  0   \n",
      "60                                                  0   \n",
      "65                                                  0   \n",
      "101                                                 0   \n",
      "105                                                 0   \n",
      "\n",
      "NombreProducto  Agua Ciel Jamaica 12p 600ml CC 30378  \\\n",
      "Cliente_ID                                             \n",
      "26                                                 0   \n",
      "60                                                 0   \n",
      "65                                                 0   \n",
      "101                                                0   \n",
      "105                                                0   \n",
      "\n",
      "NombreProducto                 ...                  \\\n",
      "Cliente_ID                     ...                   \n",
      "26                             ...                   \n",
      "60                             ...                   \n",
      "65                             ...                   \n",
      "101                            ...                   \n",
      "105                            ...                   \n",
      "\n",
      "NombreProducto  Wonder 100pct con Ajonjoli 567g TAB WON 35146  \\\n",
      "Cliente_ID                                                      \n",
      "26                                                          0   \n",
      "60                                                          0   \n",
      "65                                                          0   \n",
      "101                                                         0   \n",
      "105                                                         0   \n",
      "\n",
      "NombreProducto  Wonder 100pct con Ajonjoli 567g WON 35144  \\\n",
      "Cliente_ID                                                  \n",
      "26                                                      0   \n",
      "60                                                      0   \n",
      "65                                                      0   \n",
      "101                                                     0   \n",
      "105                                                     0   \n",
      "\n",
      "NombreProducto  Wonder 100pct gde 680g SP MTA WON 43339  \\\n",
      "Cliente_ID                                                \n",
      "26                                                    0   \n",
      "60                                                    0   \n",
      "65                                                    0   \n",
      "101                                                   0   \n",
      "105                                                   0   \n",
      "\n",
      "NombreProducto  Wonder 100pct gde 680g SP WON 107  \\\n",
      "Cliente_ID                                          \n",
      "26                                              0   \n",
      "60                                              0   \n",
      "65                                              0   \n",
      "101                                             0   \n",
      "105                                             0   \n",
      "\n",
      "NombreProducto  Wonder 100pct grande 567g MTA WON 35148  \\\n",
      "Cliente_ID                                                \n",
      "26                                            14.142857   \n",
      "60                                             0.000000   \n",
      "65                                            72.285714   \n",
      "101                                            0.000000   \n",
      "105                                           23.285714   \n",
      "\n",
      "NombreProducto  Wonder 100pct grande 567g TAB WON 35149  \\\n",
      "Cliente_ID                                                \n",
      "26                                                    0   \n",
      "60                                                    0   \n",
      "65                                                    0   \n",
      "101                                                   0   \n",
      "105                                                   0   \n",
      "\n",
      "NombreProducto  Wonder 100pct grande 567g TNB WON 36936  \\\n",
      "Cliente_ID                                                \n",
      "26                                                    0   \n",
      "60                                                    0   \n",
      "65                                                    0   \n",
      "101                                                   0   \n",
      "105                                                   0   \n",
      "\n",
      "NombreProducto  Wonder 100pct grande 567g WON 35147  \\\n",
      "Cliente_ID                                            \n",
      "26                                                0   \n",
      "60                                                0   \n",
      "65                                                0   \n",
      "101                                               0   \n",
      "105                                               0   \n",
      "\n",
      "NombreProducto  Wonder 100pct mediano 475g MTA WON 43131  \\\n",
      "Cliente_ID                                                 \n",
      "26                                              0.000000   \n",
      "60                                              0.000000   \n",
      "65                                              0.000000   \n",
      "101                                             0.000000   \n",
      "105                                            17.857143   \n",
      "\n",
      "NombreProducto  Wonder 100pct mediano 475g WON 106  \n",
      "Cliente_ID                                          \n",
      "26                                               0  \n",
      "60                                               0  \n",
      "65                                               0  \n",
      "101                                              0  \n",
      "105                                              0  \n",
      "\n",
      "[5 rows x 1799 columns]\n",
      "(880604, 1799)\n"
     ]
    }
   ],
   "source": [
    "print demand_matrix_df.head()\n",
    "print demand_matrix_df.shape"
   ]
  },
  {
   "cell_type": "code",
   "execution_count": 20,
   "metadata": {
    "collapsed": false
   },
   "outputs": [
    {
     "name": "stdout",
     "output_type": "stream",
     "text": [
      "(1799,)\n"
     ]
    }
   ],
   "source": [
    "prod_index = demand_matrix_dfnd_matrix_df.columns\n",
    "print prod_index.shape"
   ]
  },
  {
   "cell_type": "code",
   "execution_count": null,
   "metadata": {
    "collapsed": false
   },
   "outputs": [
    {
     "name": "stdout",
     "output_type": "stream",
     "text": [
      "(880604, 1799)\n",
      "(1799, 880604)"
     ]
    }
   ],
   "source": [
    "from sklearn.decomposition import TruncatedSVD\n",
    "recom = TruncatedSVD(n_components=1500, random_state=101)\n",
    "print demand_matrix_df.values.shape\n",
    "print demand_matrix_df.values.T.shape\n",
    "R = recom.fit_transform(demand_matrix_df.values.T)\n",
    "print R.shape"
   ]
  },
  {
   "cell_type": "code",
   "execution_count": null,
   "metadata": {
    "collapsed": true
   },
   "outputs": [],
   "source": [
    "cappucino_index = list(prod_index).index('Capuccino Moka 750g NES 9')\n",
    "print cappucino_index\n",
    "print R[cappucino_index]"
   ]
  },
  {
   "cell_type": "code",
   "execution_count": null,
   "metadata": {
    "collapsed": true
   },
   "outputs": [],
   "source": [
    "import numpy as np\n",
    "correlation_matrix = np.corrcoef(R)\n",
    "P = correlation_matrix[cappucino_index]\n",
    "print list(prod_index[(P > 0.98) & (P < 1.0)])"
   ]
  }
 ],
 "metadata": {
  "kernelspec": {
   "display_name": "Python 2",
   "language": "python",
   "name": "python2"
  },
  "language_info": {
   "codemirror_mode": {
    "name": "ipython",
    "version": 2
   },
   "file_extension": ".py",
   "mimetype": "text/x-python",
   "name": "python",
   "nbconvert_exporter": "python",
   "pygments_lexer": "ipython2",
   "version": "2.7.10"
  }
 },
 "nbformat": 4,
 "nbformat_minor": 0
}
